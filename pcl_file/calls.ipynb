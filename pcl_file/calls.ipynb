{
 "cells": [
  {
   "cell_type": "code",
   "execution_count": 1,
   "metadata": {},
   "outputs": [
    {
     "name": "stdout",
     "output_type": "stream",
     "text": [
      "Not do visualization\n",
      "1.0 4.9931182861328125 872.0\n",
      "2.0 16.62349510192871 391.0\n",
      "3.0 27.92445182800293 430.0\n",
      "4.0 24.939422607421875 262.0\n",
      "6.0 19.045717239379883 1410.0\n",
      "7.0 28.236162185668945 355.0\n",
      "8.0 42.380184173583984 81.0\n",
      "12.0 40.075496673583984 104.0\n",
      "14.0 19.01910400390625 439.0\n",
      "15.0 77.50698852539062 9.0\n",
      "17.0 62.252193450927734 63.0\n",
      "18.0 46.59946060180664 101.0\n",
      "19.0 55.619842529296875 57.0\n",
      "25.0 37.85588455200195 51.0\n",
      "26.0 26.798297882080078 244.0\n",
      "34.0 30.225618362426758 181.0\n",
      "36.0 37.99692916870117 957.0\n",
      "37.0 82.31305694580078 69.0\n",
      "60.0 80.82418060302734 65.0\n",
      "61.0 61.058799743652344 101.0\n",
      "62.0 74.96060180664062 57.0\n",
      "63.0 85.22061920166016 34.0\n"
     ]
    }
   ],
   "source": [
    "import ctypes\n",
    "import os\n",
    "\n",
    "lib_path = \"./build/libsus_vis_lib.so\"\n",
    "lib = ctypes.CDLL(lib_path)\n",
    "\n",
    "lib.callsByPython.argtypes = [ctypes.c_char_p, ctypes.c_char_p]\n",
    "lib.callsByPython.restype = ctypes.POINTER(ctypes.c_float)\n",
    "\n",
    "res = lib.callsByPython(b\"1630376940.000\", b\"none\")\n",
    "res_array = [res[i] for i in range(1,int(res[0])+1)]\n",
    "for i in range(0, len(res_array), 3):\n",
    "    print(res_array[i], res_array[i+1], res_array[i+2])\n"
   ]
  }
 ],
 "metadata": {
  "kernelspec": {
   "display_name": "carla38",
   "language": "python",
   "name": "python3"
  },
  "language_info": {
   "codemirror_mode": {
    "name": "ipython",
    "version": 3
   },
   "file_extension": ".py",
   "mimetype": "text/x-python",
   "name": "python",
   "nbconvert_exporter": "python",
   "pygments_lexer": "ipython3",
   "version": "3.8.0"
  }
 },
 "nbformat": 4,
 "nbformat_minor": 2
}
