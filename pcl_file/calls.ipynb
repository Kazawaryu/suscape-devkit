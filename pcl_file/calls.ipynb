{
 "cells": [
  {
   "cell_type": "code",
   "execution_count": 2,
   "metadata": {},
   "outputs": [
    {
     "ename": "",
     "evalue": "",
     "output_type": "error",
     "traceback": [
      "\u001b[1;31m在当前单元格或上一个单元格中执行代码时 Kernel 崩溃。\n",
      "\u001b[1;31m请查看单元格中的代码，以确定故障的可能原因。\n",
      "\u001b[1;31m单击<a href='https://aka.ms/vscodeJupyterKernelCrash'>此处</a>了解详细信息。\n",
      "\u001b[1;31m有关更多详细信息，请查看 Jupyter <a href='command:jupyter.viewOutput'>log</a>。"
     ]
    }
   ],
   "source": [
    "# 在python中调用C++代码，传入参数，获取返回值\n",
    "import ctypes\n",
    "import os\n",
    "\n",
    "lib_path = \"./build/libsus_vis_lib.so\"\n",
    "lib = ctypes.cdll.LoadLibrary(lib_path)\n",
    "# 调用callsByPython方法，入参为2个string\n",
    "lib.callsByPython.argtypes = [ctypes.c_char_p, ctypes.c_char_p]\n",
    "lib.callsByPython.restype = ctypes.c_char_p\n",
    "\n",
    "# 调用callsByPython方法，入参为2个string(\"1630376940.000\", \"bbox\")，无返回值\n",
    "lib.callsByPython(b\"1630376940.000\", b\"bbox\")\n"
   ]
  }
 ],
 "metadata": {
  "kernelspec": {
   "display_name": "carla38",
   "language": "python",
   "name": "python3"
  },
  "language_info": {
   "codemirror_mode": {
    "name": "ipython",
    "version": 3
   },
   "file_extension": ".py",
   "mimetype": "text/x-python",
   "name": "python",
   "nbconvert_exporter": "python",
   "pygments_lexer": "ipython3",
   "version": "3.8.0"
  }
 },
 "nbformat": 4,
 "nbformat_minor": 2
}
