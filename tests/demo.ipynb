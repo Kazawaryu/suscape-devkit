{
 "cells": [
  {
   "cell_type": "code",
   "execution_count": 1,
   "id": "cbb781b0",
   "metadata": {},
   "outputs": [],
   "source": [
    "#数据读取以及可视化demo\n",
    "from suscape.dataset import Dataset"
   ]
  },
  {
   "cell_type": "code",
   "execution_count": 3,
   "id": "2e0e776a",
   "metadata": {},
   "outputs": [],
   "source": [
    "#激光雷达点云读取以及可视化\n",
    "dataset = Dataset(\"./example/dataset_mini\")\n",
    "dataset.render(scene_name=\"scene-000000\",\n",
    "                   file_prefixname=\"1656932600.000\",\n",
    "                   render_type=\"\",\n",
    "                   # sensor_name=\"camera_front\",\n",
    "                   sensor_name=\"lidar\",\n",
    "                   save=True,\n",
    "                   with_radar=False\n",
    "                   )"
   ]
  },
  {
   "cell_type": "code",
   "execution_count": 4,
   "id": "424039a8",
   "metadata": {},
   "outputs": [],
   "source": [
    "# 可见光相机数据读取及可视化\n",
    "dataset.render(scene_name=\"scene-000000\",\n",
    "                   file_prefixname=\"1656932600.000\",\n",
    "                   render_type=\"\",\n",
    "                   sensor_name=\"camera_front\",\n",
    "                   save=True,\n",
    "                   with_radar=True\n",
    "                   )"
   ]
  },
  {
   "cell_type": "code",
   "execution_count": 5,
   "id": "31dd8baf",
   "metadata": {},
   "outputs": [],
   "source": [
    "#红外相机数据读取及可视化\n",
    "dataset.render(scene_name=\"scene-000000\",\n",
    "                   file_prefixname=\"1656932600.000\",\n",
    "                   render_type=\"\",\n",
    "                   sensor_name=\"aux_camera_front\",\n",
    "                   save=True,\n",
    "                   with_radar=True\n",
    "                   )"
   ]
  },
  {
   "cell_type": "code",
   "execution_count": 6,
   "id": "f9843c9c",
   "metadata": {},
   "outputs": [],
   "source": [
    "#毫米波雷达数据读取及可视化\n",
    "dataset.render(scene_name=\"scene-000000\",\n",
    "                   file_prefixname=\"1656932600.000\",\n",
    "                   render_type=\"\",\n",
    "                   # sensor_name=\"camera_front\",\n",
    "                   sensor_name=\"lidar\",\n",
    "                   save=True,\n",
    "                   with_radar=True\n",
    "                   )"
   ]
  },
  {
   "cell_type": "code",
   "execution_count": 7,
   "id": "8f7461dd",
   "metadata": {},
   "outputs": [
    {
     "name": "stdout",
     "output_type": "stream",
     "text": [
      "191193.32160893624\n"
     ]
    }
   ],
   "source": [
    "#ego_pose读取以及打印某一结果\n",
    "ego_pose = dataset.read_ego_pose('./example/dataset_mini/scene-000000/ego_pose/1656932600.000.json')\n",
    "print(ego_pose.x)"
   ]
  },
  {
   "cell_type": "code",
   "execution_count": 8,
   "id": "917a0185",
   "metadata": {},
   "outputs": [
    {
     "name": "stdout",
     "output_type": "stream",
     "text": [
      "average_precisions : [0.4242424242424242, 0.5454545454545455]\n",
      "Final mAP : 0.48484848484848486\n",
      "class_names : ['Car', 'Pedestrian']\n"
     ]
    }
   ],
   "source": [
    "# 2d 目标检测mAP计算demo\n",
    "from suscape.eval.detection_2d.evaluate_2d import DetEval2D\n",
    "test_data_path = './example/2d_metric'\n",
    "class_names = [\"Car\",\"Pedestrian\"]\n",
    "eval_2d = DetEval2D(test_data_path,class_names)\n",
    "res_json_path = './metric_test/2d/camera/res_front.json'\n",
    "sensor_name = 'camera_front'\n",
    "metrics = eval_2d.eval(res_json_path,sensor_name,0.5)\n",
    "for key in metrics.keys():\n",
    "    print(key,':' ,metrics[key])"
   ]
  },
  {
   "cell_type": "code",
   "execution_count": 9,
   "id": "f75f8e99",
   "metadata": {},
   "outputs": [
    {
     "name": "stdout",
     "output_type": "stream",
     "text": [
      "Begin to accumulating the detection metric\n",
      "average_precisions : [[0.3333333333333333, 0.3333333333333333, 0.3333333333333333, 0.2633744855967078, 0.102880658436214, 0.102880658436214, 0.021164021164021163, 0.006172839506172839, 0.006172839506172839, 0.006172839506172839]]\n",
      "mAPs : [0.3333333333333333, 0.3333333333333333, 0.3333333333333333, 0.2633744855967078, 0.102880658436214, 0.102880658436214, 0.021164021164021163, 0.006172839506172839, 0.006172839506172839, 0.006172839506172839]\n",
      "Final mAP : 0.15088183421516754\n",
      "class_names : ['Car']\n"
     ]
    }
   ],
   "source": [
    "# 3d 目标检测mAP计算demo\n",
    "from suscape.eval.detection_3d.evaluate_3d import DetEval3D\n",
    "eval_test = DetEval3D('./example/3d_metric',[\"Car\", \"Pedestrian\", \"Cyclist\"])\n",
    "metrics = eval_test.eval('./metric_test/3d/res.json')\n",
    "for key in metrics.keys():\n",
    "    print(key,':' ,metrics[key])"
   ]
  },
  {
   "cell_type": "code",
   "execution_count": 10,
   "id": "3786ad51",
   "metadata": {},
   "outputs": [
    {
     "name": "stdout",
     "output_type": "stream",
     "text": [
      "aAcc : 0.9962414121095244\n",
      "IoU : [1.         0.99999434 1.         1.         1.         1.\n",
      " 0.99999851 1.         0.99998955 1.         0.01635203 0.99999978\n",
      " 1.         1.         1.         1.         1.         1.\n",
      " 1.         1.         0.99999897 1.         0.99999652 0.999967\n",
      " 1.         1.         1.         1.         1.         1.\n",
      " 1.         1.         1.         0.         0.         0.\n",
      " 0.99999361 1.         1.         1.         1.         1.\n",
      " 1.         1.        ]\n",
      "Acc : [1.         0.99999727 1.         1.         1.         1.\n",
      " 0.99999897 1.         1.         1.         0.99963663 1.\n",
      " 1.         1.         1.         1.         1.         1.\n",
      " 1.         1.         0.99999897 1.         0.99999826 1.\n",
      " 1.         1.         1.         1.         1.         1.\n",
      " 1.         1.         1.         0.         0.         0.\n",
      " 0.99999361 1.         1.         1.         1.         1.\n",
      " 1.         1.        ]\n",
      "mIoU : 0.9094611435197816\n"
     ]
    }
   ],
   "source": [
    "# 语义分割mIoU计算demo\n",
    "from suscape.eval.segmentation.eval_seg import SegEval\n",
    "from suscape.eval.segmentation.seg_utils import labels\n",
    "eval_test = SegEval('./example/seg')\n",
    "metric = eval_test.eval('./metric_test/seg',label_list=labels)\n",
    "for key in metric.keys():\n",
    "    print(key, ':', metric[key])"
   ]
  },
  {
   "cell_type": "code",
   "execution_count": null,
   "id": "4dacfc9d",
   "metadata": {},
   "outputs": [],
   "source": []
  },
  {
   "cell_type": "code",
   "execution_count": null,
   "id": "ebe2ae59",
   "metadata": {},
   "outputs": [],
   "source": []
  }
 ],
 "metadata": {
  "kernelspec": {
   "display_name": "Python 3 (ipykernel)",
   "language": "python",
   "name": "python3"
  },
  "language_info": {
   "codemirror_mode": {
    "name": "ipython",
    "version": 3
   },
   "file_extension": ".py",
   "mimetype": "text/x-python",
   "name": "python",
   "nbconvert_exporter": "python",
   "pygments_lexer": "ipython3",
   "version": "3.9.13"
  }
 },
 "nbformat": 4,
 "nbformat_minor": 5
}
